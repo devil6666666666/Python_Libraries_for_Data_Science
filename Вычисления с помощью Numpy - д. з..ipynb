{
 "cells": [
  {
   "cell_type": "markdown",
   "id": "3ab1d7bd-fb1e-49af-8396-42c0b754469a",
   "metadata": {},
   "source": [
    "Задание 1\n",
    "Создайте массив Numpy под названием a размером 5x2, то есть состоящий из 5 строк\n",
    "и 2 столбцов. Первый столбец должен содержать числа 1, 2, 3, 3, 1, а второй - числа 6,\n",
    "8, 11, 10, 7. Будем считать, что каждый столбец - это признак, а строка - наблюдение.\n",
    "Затем найдите среднее значение по каждому признаку, используя метод mean массива\n",
    "Numpy. Результат запишите в массив mean_a, в нем должно быть 2 элемента.\n",
    "\n",
    "Задание 2\n",
    "Вычислите массив a_centered, отняв от значений массива “а” средние значения\n",
    "соответствующих признаков, содержащиеся в массиве mean_a. Вычисление должно\n",
    "производиться в одно действие. Получившийся массив должен иметь размер 5x2.\n",
    "\n",
    "Задание 3\n",
    "Найдите скалярное произведение столбцов массива a_centered. В результате должна\n",
    "получиться величина _centered_spa. Затем поделите a_centered_sp на N-1, где N - число\n",
    "наблюдений."
   ]
  },
  {
   "cell_type": "code",
   "execution_count": 1,
   "id": "60cd17a6-ff56-45ff-ac0e-769eb3110eba",
   "metadata": {},
   "outputs": [],
   "source": [
    "import numpy as np"
   ]
  },
  {
   "cell_type": "code",
   "execution_count": 2,
   "id": "56ae9472-6e51-4b4e-93c6-0639e11cdf78",
   "metadata": {},
   "outputs": [
    {
     "name": "stdout",
     "output_type": "stream",
     "text": [
      "[[ 1  6]\n",
      " [ 2  8]\n",
      " [ 3 11]\n",
      " [ 3 10]\n",
      " [ 1  7]]\n"
     ]
    }
   ],
   "source": [
    "a = np.array([[1, 6], \n",
    "              [2, 8], \n",
    "              [3, 11],\n",
    "              [3, 10],\n",
    "              [1, 7]])\n",
    "\n",
    "print(a)"
   ]
  },
  {
   "cell_type": "code",
   "execution_count": 3,
   "id": "39bf1c03-49a4-48c9-b6de-21b73748069e",
   "metadata": {},
   "outputs": [
    {
     "data": {
      "text/plain": [
       "array([2. , 8.4])"
      ]
     },
     "execution_count": 3,
     "metadata": {},
     "output_type": "execute_result"
    }
   ],
   "source": [
    "mean_a = a.mean(axis=0)\n",
    "mean_a"
   ]
  },
  {
   "cell_type": "code",
   "execution_count": 5,
   "id": "5e1c87e3-20a3-48a7-9510-26b89d498d3a",
   "metadata": {},
   "outputs": [
    {
     "data": {
      "text/plain": [
       "array([[-1. , -2.4],\n",
       "       [ 0. , -0.4],\n",
       "       [ 1. ,  2.6],\n",
       "       [ 1. ,  1.6],\n",
       "       [-1. , -1.4]])"
      ]
     },
     "execution_count": 5,
     "metadata": {},
     "output_type": "execute_result"
    }
   ],
   "source": [
    "a_centered = a - mean_a\n",
    "a_centered"
   ]
  },
  {
   "cell_type": "code",
   "execution_count": null,
   "id": "24ad1010-8566-4ee4-a1da-ac967274dd0c",
   "metadata": {},
   "outputs": [],
   "source": []
  }
 ],
 "metadata": {
  "kernelspec": {
   "display_name": "Python 3 (ipykernel)",
   "language": "python",
   "name": "python3"
  },
  "language_info": {
   "codemirror_mode": {
    "name": "ipython",
    "version": 3
   },
   "file_extension": ".py",
   "mimetype": "text/x-python",
   "name": "python",
   "nbconvert_exporter": "python",
   "pygments_lexer": "ipython3",
   "version": "3.12.2"
  }
 },
 "nbformat": 4,
 "nbformat_minor": 5
}
